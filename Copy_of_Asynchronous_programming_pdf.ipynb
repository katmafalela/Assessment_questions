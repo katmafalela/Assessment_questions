{
  "nbformat": 4,
  "nbformat_minor": 0,
  "metadata": {
    "colab": {
      "provenance": [],
      "authorship_tag": "ABX9TyOG+vHsviknwdisYMzJYv5s",
      "include_colab_link": true
    },
    "kernelspec": {
      "name": "python3",
      "display_name": "Python 3"
    },
    "language_info": {
      "name": "python"
    }
  },
  "cells": [
    {
      "cell_type": "markdown",
      "metadata": {
        "id": "view-in-github",
        "colab_type": "text"
      },
      "source": [
        "<a href=\"https://colab.research.google.com/github/katmafalela/Re-Coded-notes/blob/main/Copy_of_Asynchronous_programming_pdf.ipynb\" target=\"_parent\"><img src=\"https://colab.research.google.com/assets/colab-badge.svg\" alt=\"Open In Colab\"/></a>"
      ]
    },
    {
      "cell_type": "code",
      "execution_count": null,
      "metadata": {
        "id": "IxQNPy8LrK9p"
      },
      "outputs": [],
      "source": []
    },
    {
      "cell_type": "markdown",
      "source": [
        "Certainly! Let's refine your notes with some polishing:\n",
        "\n",
        "---\n",
        "\n",
        "### Asynchronous Programming:\n",
        "\n",
        "In a computer system, the processor executes tasks or programs, and the speed of execution depends on the processor and memory.\n",
        "\n",
        "Some operations, like accessing data from a hard disk or communicating over a network, can run independently of the processor, allowing it to handle other tasks instead of idling.\n",
        "\n",
        "**Asynchronicity:**\n",
        "\n",
        "Synchronous programming executes tasks sequentially, where the program waits for each task to complete before proceeding. This can lead to longer overall execution times due to sequential processing.\n",
        "\n",
        "Introducing threads allows concurrent execution of tasks, leveraging multiple processors in modern computers. Threads enable starting processes concurrently and merging their results after completion, optimizing task completion times.\n",
        "\n",
        "In simple terms, synchronous programming is implicit, while asynchronous programming is explicit, enabling multiple tasks to occur simultaneously, improving program efficiency, especially for non-linear tasks.\n",
        "\n",
        "**Callbacks:**\n",
        "\n",
        "One approach to asynchronous programming involves callback functions. These functions are invoked when an asynchronous task initiates, allowing the program to continue execution. Once the task completes, the callback function processes the result.\n",
        "\n",
        "*Example 1:*\n",
        "```javascript\n",
        "setTimeout(() => console.log(\"Tick\"), 500);\n",
        "```\n",
        "In this example, the `setTimeout()` function executes the callback after a 500ms delay.\n",
        "\n",
        "*Example 2:*\n",
        "```javascript\n",
        "readTextFile(\"shopping_list.txt\", content => {\n",
        "    console.log(`Shopping List:\\n${content}`);\n",
        "});\n",
        "```\n",
        "Here, `readTextFile()` asynchronously reads a file's contents, passing them to the callback for printing.\n",
        "\n",
        "While callbacks enable asynchronous behavior, they can introduce bugs and complexity compared to synchronous return values.\n",
        "\n",
        "**Promises:**\n",
        "\n",
        "Promises offer a structured approach to asynchronous programming by representing future results. They provide a clearer, more synchronous-like syntax compared to callbacks.\n",
        "\n",
        "A Promise object represents the eventual completion of an asynchronous operation, with a `then()` method to handle successful outcomes.\n",
        "\n",
        "*Example:*\n",
        "```javascript\n",
        "const promise = new Promise((resolve, reject) => {\n",
        "    resolve(\"Hello, world!\");\n",
        "});\n",
        "\n",
        "promise.then((result) => {\n",
        "    console.log(\"Promise resolved with:\", result);\n",
        "});\n",
        "```\n",
        "\n",
        "In the example above, a Promise resolves with the value \"Hello, world!\", triggering the `then()` function.\n",
        "\n",
        "*Example 2:*\n",
        "```javascript\n",
        "function textFile(filename) {\n",
        "    return new Promise(resolve => {\n",
        "        readTextFile(filename, text => resolve(text));\n",
        "    });\n",
        "}\n",
        "\n",
        "textFile(\"plans.txt\").then(console.log);\n",
        "```\n",
        "Here, a Promise encapsulates file reading, resolving with the file's contents for further processing.\n",
        "\n",
        "Promises offer a cleaner alternative to callback-based asynchronous programming, enhancing code readability and maintainability.\n",
        "\n",
        "---\n",
        "\n",
        "With these refinements, your notes should be clearer and more polished, aiding comprehension and retention of asynchronous programming concepts.\n",
        "\n",
        "---\n",
        "**FAILURES:**\n",
        "---\n",
        "\n",
        "\n",
        "- **Promise Rejection Handling:** When a Promise is rejected, it provides a reason for the rejection, often referred to as the \"reason.\" If an exception occurs in a handler function or if a handler returns a rejected Promise, the rejection reason is propagated. The `Promise.reject()` function creates an immediately rejected Promise.\n",
        "\n",
        "- **Catch Method:** Promises offer a `catch()` method to explicitly handle rejections. Similar to `then()` for handling resolutions, `catch()` registers a handler to be called when the Promise is rejected. It returns a new Promise, resolving to the original Promise's value upon normal resolution and to the result of the `catch` handler otherwise. If the `catch` handler throws an error, the new Promise is also rejected.\n",
        "\n",
        "- **Shorthand for Error Handling:** The `then()` method can accept both resolution and rejection handlers as arguments. This allows installing both types of handlers in a single method call using `.then(acceptHandler, rejectHandler)`.\n",
        "\n",
        "- **Rejecting Promises:** When a function passed to the Promise constructor encounters an error, it can use the second argument, alongside the `resolve` function, to reject the new Promise.\n",
        "\n",
        "- **Error Handling in Custom Functions:** Functions like `readTextFile` pass errors to their callback functions as a second argument. Wrappers like `textFile` should check this argument to ensure that any failure causes the Promise they return to be rejected.\n",
        "\n",
        "\n",
        "---\n",
        "---\n",
        "\n",
        "**AWAIT KEYWORD**\n",
        "---\n",
        "\n",
        "- The wait keyword is used to instruct a block of async program to wait for the promise\n",
        "\n",
        "- It can only be used inside in async and the program will wait until the result returns.\n",
        "\n",
        "- **Example:**\n",
        " - const getData = async()=>{\n",
        "    const y = await \"Hello world\";\n",
        "    console.log(y);\n",
        "  }\n",
        "\n",
        "  console.log(1)\n",
        "  getData();\n",
        "  console.log(2);\n",
        "\n",
        "- In this example the getData() function will utilise the wait keyword which will pause the execution of the program is fulfilled.\n",
        "- However, because the is no promise the function will excute as expected."
      ],
      "metadata": {
        "id": "xW2RicY4rLum"
      }
    },
    {
      "cell_type": "code",
      "source": [],
      "metadata": {
        "id": "NQFBt4Ej8EJG"
      },
      "execution_count": null,
      "outputs": []
    }
  ]
}